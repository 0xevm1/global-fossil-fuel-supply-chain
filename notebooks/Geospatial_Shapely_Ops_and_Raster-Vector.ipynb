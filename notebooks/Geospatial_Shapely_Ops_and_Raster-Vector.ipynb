{
 "cells": [
  {
   "cell_type": "markdown",
   "metadata": {},
   "source": [
    "# Geospatial operations with Shapely: Round-Trip Reprojection, Affine Transformations, Rasterisation, and Vectorisation"
   ]
  },
  {
   "cell_type": "markdown",
   "metadata": {},
   "source": [
    "Sometimes we want to take a geospatial object and transform it to a new coordinate system, and perhaps translate and rotate it by some amount. We may want to rasterise the object for raster operations. We'd like to do this all with Shapely geometry object so we have access to all their useful methods."
   ]
  },
  {
   "cell_type": "code",
   "execution_count": 95,
   "metadata": {},
   "outputs": [],
   "source": [
    "import json, geojson, pyproj\n",
    "from shapely import geometry\n",
    "from shapely.ops import transform\n",
    "from shapely.affinity import affine_transform\n",
    "from functools import partial\n",
    "from skimage import measure\n",
    "from scipy.ndimage.morphology import binary_dilation\n",
    "from PIL import Image, ImageDraw\n",
    "import numpy as np\n",
    "import matplotlib.pyplot as plt"
   ]
  },
  {
   "cell_type": "markdown",
   "metadata": {},
   "source": [
    "## Reprojection-Affine-Rasterisation roundtrip"
   ]
  },
  {
   "cell_type": "markdown",
   "metadata": {},
   "source": [
    "We're going to:\n",
    "- take a shapely polygon with lon/lat coordinates, say the building footprint of the Oxford School of Geography and the Environment (SOGE)\n",
    "- convert it to UTM coordinates\n",
    "- draw it on a 1km raster with Oxford's Carfax tower landmarking the bottom left corner."
   ]
  },
  {
   "cell_type": "code",
   "execution_count": 8,
   "metadata": {},
   "outputs": [],
   "source": [
    "# grab a quick geojson from geojson.io\n",
    "feature = json.loads(\"\"\"{\n",
    "      \"type\": \"Feature\",\n",
    "      \"properties\": {},\n",
    "      \"geometry\": {\n",
    "        \"type\": \"Polygon\",\n",
    "        \"coordinates\": [\n",
    "          [\n",
    "            [\n",
    "              -1.2537717819213867,\n",
    "              51.75935044524217\n",
    "            ],\n",
    "            [\n",
    "              -1.2541741132736204,\n",
    "              51.75922759060092\n",
    "            ],\n",
    "            [\n",
    "              -1.2538844347000122,\n",
    "              51.75860999193512\n",
    "            ],\n",
    "            [\n",
    "              -1.2542277574539185,\n",
    "              51.75844728980553\n",
    "            ],\n",
    "            [\n",
    "              -1.2540507316589353,\n",
    "              51.75822813907169\n",
    "            ],\n",
    "            [\n",
    "              -1.2531226873397827,\n",
    "              51.75858342836217\n",
    "            ],\n",
    "            [\n",
    "              -1.2537717819213867,\n",
    "              51.75935044524217\n",
    "            ]\n",
    "          ]\n",
    "        ]\n",
    "      }\n",
    "    }\"\"\")"
   ]
  },
  {
   "cell_type": "code",
   "execution_count": 9,
   "metadata": {},
   "outputs": [],
   "source": [
    "# load the polygon:\n",
    "SOGE = geometry.shape(feature['geometry'])"
   ]
  },
  {
   "cell_type": "markdown",
   "metadata": {},
   "source": [
    "### Forward and Reverse Projection\n",
    "We want to convert the geometry from lon/lat to a cartesian coordinate system. Let's use Universal Transfer Mercator with units in m. The UTM projection is arranged in 'zones' to keep angles and shapes conformal in images."
   ]
  },
  {
   "cell_type": "code",
   "execution_count": 17,
   "metadata": {},
   "outputs": [],
   "source": [
    "# A function to grab the UTM zone number for any lat/lon location\n",
    "def get_utm_zone(lat,lon):\n",
    "    zone_str = str(int((lon + 180)/6) + 1)\n",
    "\n",
    "    if ((lat>=56.) & (lat<64.) & (lon >=3.) & (lon <12.)):\n",
    "        zone_str = '32'\n",
    "    elif ((lat >= 72.) & (lat <84.)):\n",
    "        if ((lon >=0.) & (lon<9.)):\n",
    "            zone_str = '31'\n",
    "        elif ((lon >=9.) & (lon<21.)):\n",
    "            zone_str = '33'\n",
    "        elif ((lon >=21.) & (lon<33.)):\n",
    "            zone_str = '35'\n",
    "        elif ((lon >=33.) & (lon<42.)):\n",
    "            zone_str = '37'\n",
    "\n",
    "    return zone_str"
   ]
  },
  {
   "cell_type": "code",
   "execution_count": 19,
   "metadata": {},
   "outputs": [],
   "source": [
    "# get the UTM zone using the centroid of the polygon\n",
    "utm_zone = get_utm_zone(SOGE.centroid.y, SOGE.centroid.x)\n",
    "\n",
    "# define the native WGS84 lon/lat projection\n",
    "proj_wgs = pyproj.Proj(\"+proj=longlat +ellps=WGS84 +datum=WGS84 +no_defs\")\n",
    "\n",
    "# define the UTM projection using the utm zone\n",
    "proj_utm = pyproj.Proj(proj='utm',zone=utm_zone,ellps='WGS84')\n",
    "\n",
    "# create reprojection functions using functools.partial\n",
    "reproj_wgs_utm = partial(pyproj.transform, proj_wgs, proj_utm)\n",
    "reproj_utm_wgs = partial(pyproj.transform, proj_utm, proj_wgs)"
   ]
  },
  {
   "cell_type": "code",
   "execution_count": 38,
   "metadata": {},
   "outputs": [],
   "source": [
    "# use shapely.transform with the reprojection functions to reproject shapely objects\n",
    "SOGE_utm = transform(reproj_wgs_utm, SOGE)"
   ]
  },
  {
   "cell_type": "code",
   "execution_count": 76,
   "metadata": {},
   "outputs": [
    {
     "name": "stdout",
     "output_type": "stream",
     "text": [
      "True\n"
     ]
    }
   ],
   "source": [
    "# Check the reverse transform with a tolerance of 1e-9 of a decimal degree\n",
    "print (SOGE.almost_equals(transform(reproj_utm_wgs, SOGE_utm), 1e-9))"
   ]
  },
  {
   "cell_type": "markdown",
   "metadata": {},
   "source": [
    "### Affine Transformation\n",
    "Now lets say we want to get a sense of the footprint of the School of Geograpy on a square kilometer of Oxford, with the bottom left corner centered on Carfax tower. We want to create a mask of the building footprint on a numpy array."
   ]
  },
  {
   "cell_type": "markdown",
   "metadata": {},
   "source": [
    "<div>\n",
    "<img src=\"https://user-images.githubusercontent.com/22874837/74949464-b52dec00-53f5-11ea-9107-53d91c93d70c.png\" width=\"500\"/>\n",
    "</div>"
   ]
  },
  {
   "cell_type": "code",
   "execution_count": 59,
   "metadata": {},
   "outputs": [
    {
     "data": {
      "image/png": "[encoded data removed]",
      "text/plain": [
       "<Figure size 288x288 with 1 Axes>"
      ]
     },
     "metadata": {
      "needs_background": "light"
     },
     "output_type": "display_data"
    }
   ],
   "source": [
    "# Point for Carfax tower\n",
    "carfax = geometry.Point(-1.25812, 51.7519)\n",
    "\n",
    "# Convert the point to utm\n",
    "carfax_utm = transform(reproj_wgs_utm,carfax)\n",
    "\n",
    "# use the utm point as the lower-left coordinate for a shapely box\n",
    "oxford_box = geometry.box(carfax_utm.x, carfax_utm.y, carfax_utm.x+1000, carfax_utm.y+1000)\n",
    "\n",
    "# visualise\n",
    "fig, ax = plt.subplots(1,1,figsize=(4,4))\n",
    "ax.plot(*SOGE_utm.exterior.xy,c='b')\n",
    "ax.scatter(carfax_utm.x, carfax_utm.y, c='k')\n",
    "ax.plot(*oxford_box.exterior.xy,c='g')\n",
    "plt.show()"
   ]
  },
  {
   "cell_type": "markdown",
   "metadata": {},
   "source": [
    "We'll choose the pixel resolution of our numpy array to be 25m. We'll use a [shapely affine tranformation](https://shapely.readthedocs.io/en/latest/manual.html#affine-transformations) with a geotransform to transform the shape to pixel coordinates. *Note!* The Shapely Geotransform matrix is different than many other spatial packages (e.g. GDAL, PostGIS)."
   ]
  },
  {
   "cell_type": "code",
   "execution_count": 72,
   "metadata": {},
   "outputs": [],
   "source": [
    "# Define the geotransform matrix\n",
    "a = e = 1/25 # stretch along-axis 25m/px\n",
    "\n",
    "b = d = 0 # rotate across-axis 0m/px\n",
    "\n",
    "x_off = - carfax_utm.x / 25 # offset from cartesian origin in pixel coordinates\n",
    "\n",
    "y_off = - carfax_utm.y / 25 # offset from cartesian origin in pixel coordinates\n",
    "\n",
    "GT = [a,b,d,e,x_off,y_off] # GeoTransform Matrix"
   ]
  },
  {
   "cell_type": "code",
   "execution_count": 75,
   "metadata": {},
   "outputs": [],
   "source": [
    "# Apply GeoTransform\n",
    "SOGE_pix = affine_transform(SOGE_utm,GT)"
   ]
  },
  {
   "cell_type": "markdown",
   "metadata": {},
   "source": [
    "### Rasterising\n",
    "Lastly, let's say we want to rasterise our converted polygons to create a numpy array mask. Let's use PIL to draw our polygon on a numpy array."
   ]
  },
  {
   "cell_type": "code",
   "execution_count": 146,
   "metadata": {},
   "outputs": [],
   "source": [
    "# initialise a numpy array\n",
    "SOGE_mask = np.zeros((int(1000/25), int(1000/25))) # 1000m / 25m/px\n",
    "\n",
    "# create an Image object\n",
    "im = Image.fromarray(mask, mode='L')\n",
    "\n",
    "# create an ImageDraw object\n",
    "draw = ImageDraw.Draw(im)\n",
    "\n",
    "# draw the polygon\n",
    "draw.polygon(list(SOGE_pix.exterior.coords), fill=255)\n",
    "\n",
    "# un-draw any holes in the polygon...\n",
    "for hole in SOGE_pix.interiors:\n",
    "    draw.polygon(list(hole.coords), fill=0)\n",
    "    \n",
    "# return the image object to the mask array\n",
    "SOGE_mask = np.array(im)"
   ]
  },
  {
   "cell_type": "code",
   "execution_count": 147,
   "metadata": {},
   "outputs": [
    {
     "data": {
      "image/png": "[encoded data removed]",
      "text/plain": [
       "<Figure size 288x288 with 1 Axes>"
      ]
     },
     "metadata": {
      "needs_background": "light"
     },
     "output_type": "display_data"
    }
   ],
   "source": [
    "# visualise\n",
    "fix, ax = plt.subplots(1,1,figsize=(4,4))\n",
    "ax.imshow(SOGE_mask, origin='lower')\n",
    "ax.plot(*SOGE_pix.exterior.xy, c='g')\n",
    "plt.show()"
   ]
  },
  {
   "cell_type": "markdown",
   "metadata": {},
   "source": [
    "### Vectorising\n",
    "To complete the round-trip, lets perform a raster operation (say, a [simple binary dialation](https://docs.scipy.org/doc/scipy-0.14.0/reference/generated/scipy.ndimage.morphology.binary_dilation.html)), then re-vectorise our polygon and get it all the way back to native lat-lon coordinates. We'll use a vectoriser built with [skimage.measure.find_contours](https://scikit-image.org/docs/dev/api/skimage.measure.html#skimage.measure.find_contours)."
   ]
  },
  {
   "cell_type": "code",
   "execution_count": 165,
   "metadata": {},
   "outputs": [],
   "source": [
    "def vectoriser(arr, disp=2):\n",
    "    \"\"\"\n",
    "    input: arr -> a square 2D binary mask array\n",
    "    output: polys -> a list of vectorised polygons\n",
    "    \"\"\"    \n",
    "    \n",
    "    polys = []\n",
    "\n",
    "    contours = measure.find_contours(np.pad(arr,disp,'constant', constant_values=(0)), 0.0001)\n",
    "    \n",
    "    for c in contours:\n",
    "        c = (c-disp).clip(0.,float(arr.shape[0])) # clip back extraneous geomtries\n",
    "        c = np.round(c) # round to int\n",
    "        c.T[[0, 1]] = c.T[[1, 0]] # swap lons<->lats\n",
    "        poly = geometry.Polygon(c) # pass into geometry\n",
    "        polys.append(poly)\n",
    "    return polys"
   ]
  },
  {
   "cell_type": "code",
   "execution_count": 166,
   "metadata": {},
   "outputs": [],
   "source": [
    "# grab the 0th element in the list of polygons\n",
    "SOGE_dialated = vectoriser(binary_dilation(SOGE_mask>0))[0]"
   ]
  },
  {
   "cell_type": "code",
   "execution_count": 167,
   "metadata": {},
   "outputs": [
    {
     "data": {
      "image/png": "[encoded data removed]",
      "text/plain": [
       "<Figure size 432x432 with 1 Axes>"
      ]
     },
     "metadata": {
      "needs_background": "light"
     },
     "output_type": "display_data"
    }
   ],
   "source": [
    "# Visualise\n",
    "fig, ax = plt.subplots(1,1,figsize=(6,6))\n",
    "ax.imshow(binary_dilation(SOGE_mask),origin='lower')\n",
    "ax.plot(*SOGE_dialated.exterior.xy)\n",
    "plt.show()"
   ]
  },
  {
   "cell_type": "markdown",
   "metadata": {},
   "source": [
    "Now we need to convert this polygon in the pixel coordinate system back to the UTM coordinate system, and finally back to lon/lat. We do this by first reversing the affine transformation, and then reversing the projection."
   ]
  },
  {
   "cell_type": "code",
   "execution_count": 168,
   "metadata": {},
   "outputs": [],
   "source": [
    "GT_rev = [1/a,b,d,1/e,carfax_utm.x, carfax_utm.y]"
   ]
  },
  {
   "cell_type": "code",
   "execution_count": 169,
   "metadata": {},
   "outputs": [
    {
     "data": {
      "image/png": "[encoded data removed]",
      "text/plain": [
       "<Figure size 864x432 with 2 Axes>"
      ]
     },
     "metadata": {
      "needs_background": "light"
     },
     "output_type": "display_data"
    }
   ],
   "source": [
    "# visualise\n",
    "fig, axs = plt.subplots(1,2,figsize=(12,6))\n",
    "#utm polygons\n",
    "axs[0].plot(*affine_transform(SOGE_dialated, GT_rev).exterior.xy,c='r')\n",
    "axs[0].plot(*SOGE_utm.exterior.xy, c='b')\n",
    "axs[0].plot(*oxford_box.exterior.xy,c='g')\n",
    "#lon/lat polygons\n",
    "axs[1].plot(*transform(reproj_utm_wgs,affine_transform(SOGE_dialated, GT_rev)).exterior.xy,c='r')\n",
    "axs[1].plot(*transform(reproj_utm_wgs,SOGE_utm).exterior.xy, c='b')\n",
    "axs[1].plot(*transform(reproj_utm_wgs,oxford_box).exterior.xy,c='g')\n",
    "plt.show()"
   ]
  }
 ],
 "metadata": {
  "kernelspec": {
   "display_name": "Python 3",
   "language": "python",
   "name": "python3"
  },
  "language_info": {
   "codemirror_mode": {
    "name": "ipython",
    "version": 3
   },
   "file_extension": ".py",
   "mimetype": "text/x-python",
   "name": "python",
   "nbconvert_exporter": "python",
   "pygments_lexer": "ipython3",
   "version": "3.7.6"
  }
 },
 "nbformat": 4,
 "nbformat_minor": 2
}
