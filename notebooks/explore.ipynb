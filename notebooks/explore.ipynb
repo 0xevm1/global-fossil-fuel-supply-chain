{
 "cells": [
  {
   "cell_type": "code",
   "execution_count": 55,
   "metadata": {},
   "outputs": [],
   "source": [
    "import glob, os, sys\n",
    "import pandas as pd\n",
    "import geopandas as gpd\n",
    "import fiona\n",
    "import matplotlib.pyplot as plt"
   ]
  },
  {
   "cell_type": "code",
   "execution_count": 3,
   "metadata": {},
   "outputs": [],
   "source": [
    "files = glob.glob('../data/iea_balances_public/*')"
   ]
  },
  {
   "cell_type": "code",
   "execution_count": 4,
   "metadata": {},
   "outputs": [],
   "source": [
    "iso2 = pd.read_csv('../data/iso2.csv')"
   ]
  },
  {
   "cell_type": "code",
   "execution_count": 5,
   "metadata": {},
   "outputs": [
    {
     "data": {
      "text/plain": [
       "['GHS_STAT_UCDB2015MT_GLOBE_R2019A_V1_1']"
      ]
     },
     "execution_count": 5,
     "metadata": {},
     "output_type": "execute_result"
    }
   ],
   "source": [
    "fiona.listlayers('../data/GHSL_UCDB/GHS_STAT_UCDB2015MT_GLOBE_R2019A_V1_1.gpkg')"
   ]
  },
  {
   "cell_type": "code",
   "execution_count": 6,
   "metadata": {},
   "outputs": [],
   "source": [
    "ghsl_gdf = gpd.read_file('../data/GHSL_UCDB/GHS_STAT_UCDB2015MT_GLOBE_R2019A_V1_1.gpkg')"
   ]
  },
  {
   "cell_type": "code",
   "execution_count": 13,
   "metadata": {},
   "outputs": [
    {
     "data": {
      "text/plain": [
       "0        5369555456\n",
       "1        1881494016\n",
       "2        4434151424\n",
       "3         872692416\n",
       "4        1209973248\n",
       "            ...    \n",
       "13130    1019849024\n",
       "13131    3498342656\n",
       "13132    1449215488\n",
       "13133     975898880\n",
       "13134             0\n",
       "Name: GDP15_SM, Length: 13135, dtype: object"
      ]
     },
     "execution_count": 13,
     "metadata": {},
     "output_type": "execute_result"
    }
   ],
   "source": [
    "ghsl_gdf.GDP15_SM"
   ]
  },
  {
   "cell_type": "markdown",
   "metadata": {},
   "source": [
    "Want to add to the ghsl: \n",
    "- oil, gas, coal cons.\n",
    "1. Need to expand the area of ghsl to include all of the given country. Creates a df with urban+rural populations\n",
    "  - within each country, geovoronoi all the coords of each urban area. cascade union to get large urban+rural zones, add rural area back to dataframe. Can assume all rural popdens is the same per country, get rural pop from iso2\n",
    "2. for each urban+rural combo, need to calculate oil, gas, and coal consumption. Parametrically estimate from Google EIE based on (pop density, HDD, CDD, [GDP/pop], IEA region) and scale to IEA.\n",
    "\n",
    "THEN merge with countries not represented in the ghsl who each get their own region"
   ]
  },
  {
   "cell_type": "code",
   "execution_count": 12,
   "metadata": {},
   "outputs": [
    {
     "data": {
      "text/plain": [
       "3535326298.542409"
      ]
     },
     "execution_count": 12,
     "metadata": {},
     "output_type": "execute_result"
    }
   ],
   "source": [
    "ghsl_gdf.P15.astype('float').sum()"
   ]
  },
  {
   "cell_type": "markdown",
   "metadata": {},
   "source": [
    "### Parametrically estimate from Google EIE"
   ]
  },
  {
   "cell_type": "code",
   "execution_count": 64,
   "metadata": {},
   "outputs": [],
   "source": [
    "EIE_buildings = pd.read_csv('../data/google_EIE/buildings.csv')\n",
    "EIE_general = pd.read_csv('../data/google_EIE/general.csv')\n",
    "EIE_transport = pd.read_csv('../data/google_EIE/transport.csv')"
   ]
  },
  {
   "cell_type": "code",
   "execution_count": 65,
   "metadata": {},
   "outputs": [
    {
     "data": {
      "text/html": [
       "<div>\n",
       "<style scoped>\n",
       "    .dataframe tbody tr th:only-of-type {\n",
       "        vertical-align: middle;\n",
       "    }\n",
       "\n",
       "    .dataframe tbody tr th {\n",
       "        vertical-align: top;\n",
       "    }\n",
       "\n",
       "    .dataframe thead th {\n",
       "        text-align: right;\n",
       "    }\n",
       "</style>\n",
       "<table border=\"1\" class=\"dataframe\">\n",
       "  <thead>\n",
       "    <tr style=\"text-align: right;\">\n",
       "      <th></th>\n",
       "      <th>country</th>\n",
       "      <th>iso2</th>\n",
       "      <th>iso3</th>\n",
       "      <th>iso_num</th>\n",
       "      <th>region</th>\n",
       "      <th>region_IEA</th>\n",
       "      <th>region_IEA_secondary</th>\n",
       "      <th>region_IEA_final</th>\n",
       "      <th>urban_pop</th>\n",
       "      <th>rural_pop</th>\n",
       "      <th>population</th>\n",
       "      <th>portion</th>\n",
       "    </tr>\n",
       "  </thead>\n",
       "  <tbody>\n",
       "    <tr>\n",
       "      <th>0</th>\n",
       "      <td>Afghanistan</td>\n",
       "      <td>AF</td>\n",
       "      <td>AFG</td>\n",
       "      <td>4.0</td>\n",
       "      <td>ASIA</td>\n",
       "      <td>DEVASIA</td>\n",
       "      <td>DEVASIA</td>\n",
       "      <td>DEVASIAXINCN</td>\n",
       "      <td>8547.0</td>\n",
       "      <td>23460.0</td>\n",
       "      <td>32007</td>\n",
       "      <td>0.028394</td>\n",
       "    </tr>\n",
       "    <tr>\n",
       "      <th>1</th>\n",
       "      <td>Aland Islands</td>\n",
       "      <td>AX</td>\n",
       "      <td>ALA</td>\n",
       "      <td>248.0</td>\n",
       "      <td>EUROPE</td>\n",
       "      <td>NaN</td>\n",
       "      <td>NaN</td>\n",
       "      <td>OTHER</td>\n",
       "      <td>NaN</td>\n",
       "      <td>NaN</td>\n",
       "      <td>0</td>\n",
       "      <td>0.000000</td>\n",
       "    </tr>\n",
       "    <tr>\n",
       "      <th>2</th>\n",
       "      <td>Albania</td>\n",
       "      <td>AL</td>\n",
       "      <td>ALB</td>\n",
       "      <td>8.0</td>\n",
       "      <td>EUROPE</td>\n",
       "      <td>TE</td>\n",
       "      <td>TE</td>\n",
       "      <td>TEXRU</td>\n",
       "      <td>1835.0</td>\n",
       "      <td>1362.0</td>\n",
       "      <td>3197</td>\n",
       "      <td>0.016215</td>\n",
       "    </tr>\n",
       "    <tr>\n",
       "      <th>3</th>\n",
       "      <td>Algeria</td>\n",
       "      <td>DZ</td>\n",
       "      <td>DZA</td>\n",
       "      <td>12.0</td>\n",
       "      <td>AFRICA</td>\n",
       "      <td>AFRICA</td>\n",
       "      <td>AFRICA</td>\n",
       "      <td>AFRICAXZA</td>\n",
       "      <td>28739.0</td>\n",
       "      <td>11895.0</td>\n",
       "      <td>40634</td>\n",
       "      <td>0.038370</td>\n",
       "    </tr>\n",
       "    <tr>\n",
       "      <th>4</th>\n",
       "      <td>American Samoa</td>\n",
       "      <td>AS</td>\n",
       "      <td>ASM</td>\n",
       "      <td>16.0</td>\n",
       "      <td>ANZ-OCEANIA</td>\n",
       "      <td>OTHER</td>\n",
       "      <td>OTHER</td>\n",
       "      <td>OTHER</td>\n",
       "      <td>48.0</td>\n",
       "      <td>7.0</td>\n",
       "      <td>55</td>\n",
       "      <td>0.001792</td>\n",
       "    </tr>\n",
       "    <tr>\n",
       "      <th>...</th>\n",
       "      <td>...</td>\n",
       "      <td>...</td>\n",
       "      <td>...</td>\n",
       "      <td>...</td>\n",
       "      <td>...</td>\n",
       "      <td>...</td>\n",
       "      <td>...</td>\n",
       "      <td>...</td>\n",
       "      <td>...</td>\n",
       "      <td>...</td>\n",
       "      <td>...</td>\n",
       "      <td>...</td>\n",
       "    </tr>\n",
       "    <tr>\n",
       "      <th>244</th>\n",
       "      <td>Yemen</td>\n",
       "      <td>YE</td>\n",
       "      <td>YEM</td>\n",
       "      <td>887.0</td>\n",
       "      <td>MIDEAST</td>\n",
       "      <td>ME</td>\n",
       "      <td>ME</td>\n",
       "      <td>ME</td>\n",
       "      <td>8837.0</td>\n",
       "      <td>16698.0</td>\n",
       "      <td>25535</td>\n",
       "      <td>0.112631</td>\n",
       "    </tr>\n",
       "    <tr>\n",
       "      <th>245</th>\n",
       "      <td>Zambia</td>\n",
       "      <td>ZM</td>\n",
       "      <td>ZMB</td>\n",
       "      <td>894.0</td>\n",
       "      <td>AFRICA</td>\n",
       "      <td>AFRICA</td>\n",
       "      <td>AFRICA</td>\n",
       "      <td>AFRICAXZA</td>\n",
       "      <td>6351.0</td>\n",
       "      <td>9169.0</td>\n",
       "      <td>15520</td>\n",
       "      <td>0.014655</td>\n",
       "    </tr>\n",
       "    <tr>\n",
       "      <th>246</th>\n",
       "      <td>Zimbabwe</td>\n",
       "      <td>ZW</td>\n",
       "      <td>ZWE</td>\n",
       "      <td>716.0</td>\n",
       "      <td>AFRICA</td>\n",
       "      <td>AFRICA</td>\n",
       "      <td>AFRICA</td>\n",
       "      <td>AFRICAXZA</td>\n",
       "      <td>4871.0</td>\n",
       "      <td>10175.0</td>\n",
       "      <td>15046</td>\n",
       "      <td>0.014208</td>\n",
       "    </tr>\n",
       "    <tr>\n",
       "      <th>247</th>\n",
       "      <td>Dutch Carribean</td>\n",
       "      <td>BQ</td>\n",
       "      <td>BES</td>\n",
       "      <td>535.0</td>\n",
       "      <td>LATIN</td>\n",
       "      <td>NaN</td>\n",
       "      <td>NaN</td>\n",
       "      <td>OTHER</td>\n",
       "      <td>15.0</td>\n",
       "      <td>5.0</td>\n",
       "      <td>20</td>\n",
       "      <td>0.000652</td>\n",
       "    </tr>\n",
       "    <tr>\n",
       "      <th>248</th>\n",
       "      <td>Kosovo</td>\n",
       "      <td>XK</td>\n",
       "      <td>XKX</td>\n",
       "      <td>NaN</td>\n",
       "      <td>EUROPE</td>\n",
       "      <td>TE</td>\n",
       "      <td>TE</td>\n",
       "      <td>TEXRU</td>\n",
       "      <td>NaN</td>\n",
       "      <td>NaN</td>\n",
       "      <td>0</td>\n",
       "      <td>0.000000</td>\n",
       "    </tr>\n",
       "  </tbody>\n",
       "</table>\n",
       "<p>249 rows × 12 columns</p>\n",
       "</div>"
      ],
      "text/plain": [
       "             country iso2 iso3  iso_num       region region_IEA  \\\n",
       "0        Afghanistan   AF  AFG      4.0         ASIA    DEVASIA   \n",
       "1      Aland Islands   AX  ALA    248.0       EUROPE        NaN   \n",
       "2            Albania   AL  ALB      8.0       EUROPE         TE   \n",
       "3            Algeria   DZ  DZA     12.0       AFRICA     AFRICA   \n",
       "4     American Samoa   AS  ASM     16.0  ANZ-OCEANIA      OTHER   \n",
       "..               ...  ...  ...      ...          ...        ...   \n",
       "244            Yemen   YE  YEM    887.0      MIDEAST         ME   \n",
       "245           Zambia   ZM  ZMB    894.0       AFRICA     AFRICA   \n",
       "246         Zimbabwe   ZW  ZWE    716.0       AFRICA     AFRICA   \n",
       "247  Dutch Carribean   BQ  BES    535.0        LATIN        NaN   \n",
       "248           Kosovo   XK  XKX      NaN       EUROPE         TE   \n",
       "\n",
       "    region_IEA_secondary region_IEA_final  urban_pop  rural_pop  population  \\\n",
       "0                DEVASIA     DEVASIAXINCN     8547.0    23460.0       32007   \n",
       "1                    NaN            OTHER        NaN        NaN           0   \n",
       "2                     TE            TEXRU     1835.0     1362.0        3197   \n",
       "3                 AFRICA        AFRICAXZA    28739.0    11895.0       40634   \n",
       "4                  OTHER            OTHER       48.0        7.0          55   \n",
       "..                   ...              ...        ...        ...         ...   \n",
       "244                   ME               ME     8837.0    16698.0       25535   \n",
       "245               AFRICA        AFRICAXZA     6351.0     9169.0       15520   \n",
       "246               AFRICA        AFRICAXZA     4871.0    10175.0       15046   \n",
       "247                  NaN            OTHER       15.0        5.0          20   \n",
       "248                   TE            TEXRU        NaN        NaN           0   \n",
       "\n",
       "      portion  \n",
       "0    0.028394  \n",
       "1    0.000000  \n",
       "2    0.016215  \n",
       "3    0.038370  \n",
       "4    0.001792  \n",
       "..        ...  \n",
       "244  0.112631  \n",
       "245  0.014655  \n",
       "246  0.014208  \n",
       "247  0.000652  \n",
       "248  0.000000  \n",
       "\n",
       "[249 rows x 12 columns]"
      ]
     },
     "execution_count": 65,
     "metadata": {},
     "output_type": "execute_result"
    }
   ],
   "source": [
    "iso2"
   ]
  },
  {
   "cell_type": "code",
   "execution_count": 66,
   "metadata": {},
   "outputs": [],
   "source": [
    "EIE_general['iso2'] = EIE_general['COUNTRY'].astype('str')"
   ]
  },
  {
   "cell_type": "code",
   "execution_count": 67,
   "metadata": {},
   "outputs": [],
   "source": [
    "EIE_general = EIE_general.join(iso2[['iso2','region_IEA_secondary']].set_index('iso2'), on='iso2')"
   ]
  },
  {
   "cell_type": "code",
   "execution_count": 74,
   "metadata": {},
   "outputs": [
    {
     "data": {
      "text/html": [
       "<div>\n",
       "<style scoped>\n",
       "    .dataframe tbody tr th:only-of-type {\n",
       "        vertical-align: middle;\n",
       "    }\n",
       "\n",
       "    .dataframe tbody tr th {\n",
       "        vertical-align: top;\n",
       "    }\n",
       "\n",
       "    .dataframe thead th {\n",
       "        text-align: right;\n",
       "    }\n",
       "</style>\n",
       "<table border=\"1\" class=\"dataframe\">\n",
       "  <thead>\n",
       "    <tr style=\"text-align: right;\">\n",
       "      <th></th>\n",
       "      <th>CITY</th>\n",
       "      <th>SECTOR</th>\n",
       "      <th>BUILDINGS</th>\n",
       "      <th>EMISSIONS</th>\n",
       "      <th>ELEC_INTENSITY</th>\n",
       "      <th>ELEC_FRACTION</th>\n",
       "      <th>ENERGY_INTENSITY</th>\n",
       "      <th>FLOORSPACE</th>\n",
       "      <th>FUEL_INT</th>\n",
       "      <th>FUEL_FRAC</th>\n",
       "    </tr>\n",
       "  </thead>\n",
       "  <tbody>\n",
       "    <tr>\n",
       "      <th>0</th>\n",
       "      <td>Buenos Aires</td>\n",
       "      <td>Residential</td>\n",
       "      <td>235805</td>\n",
       "      <td>1319000</td>\n",
       "      <td>0.0004</td>\n",
       "      <td>0.5292</td>\n",
       "      <td>90.1052</td>\n",
       "      <td>45630000</td>\n",
       "      <td>0.0002</td>\n",
       "      <td>0.4708</td>\n",
       "    </tr>\n",
       "    <tr>\n",
       "      <th>1</th>\n",
       "      <td>Buenos Aires</td>\n",
       "      <td>Non-residential</td>\n",
       "      <td>60577</td>\n",
       "      <td>2409000</td>\n",
       "      <td>0.0004</td>\n",
       "      <td>0.7861</td>\n",
       "      <td>150.7102</td>\n",
       "      <td>44104000</td>\n",
       "      <td>0.0002</td>\n",
       "      <td>0.2139</td>\n",
       "    </tr>\n",
       "    <tr>\n",
       "      <th>2</th>\n",
       "      <td>Kyoto</td>\n",
       "      <td>Residential</td>\n",
       "      <td>475787</td>\n",
       "      <td>3549000</td>\n",
       "      <td>0.0006</td>\n",
       "      <td>0.4342</td>\n",
       "      <td>153.9420</td>\n",
       "      <td>61898000</td>\n",
       "      <td>0.0002</td>\n",
       "      <td>0.5658</td>\n",
       "    </tr>\n",
       "    <tr>\n",
       "      <th>3</th>\n",
       "      <td>Kyoto</td>\n",
       "      <td>Non-residential</td>\n",
       "      <td>58622</td>\n",
       "      <td>5212000</td>\n",
       "      <td>0.0006</td>\n",
       "      <td>0.6683</td>\n",
       "      <td>238.6454</td>\n",
       "      <td>48936000</td>\n",
       "      <td>0.0002</td>\n",
       "      <td>0.3317</td>\n",
       "    </tr>\n",
       "    <tr>\n",
       "      <th>4</th>\n",
       "      <td>Adelaide</td>\n",
       "      <td>Residential</td>\n",
       "      <td>489439</td>\n",
       "      <td>5064000</td>\n",
       "      <td>0.0004</td>\n",
       "      <td>0.4151</td>\n",
       "      <td>142.4763</td>\n",
       "      <td>110954000</td>\n",
       "      <td>0.0002</td>\n",
       "      <td>0.5849</td>\n",
       "    </tr>\n",
       "    <tr>\n",
       "      <th>...</th>\n",
       "      <td>...</td>\n",
       "      <td>...</td>\n",
       "      <td>...</td>\n",
       "      <td>...</td>\n",
       "      <td>...</td>\n",
       "      <td>...</td>\n",
       "      <td>...</td>\n",
       "      <td>...</td>\n",
       "      <td>...</td>\n",
       "      <td>...</td>\n",
       "    </tr>\n",
       "    <tr>\n",
       "      <th>231</th>\n",
       "      <td>Mexico City</td>\n",
       "      <td>Non-residential</td>\n",
       "      <td>170889</td>\n",
       "      <td>7482000</td>\n",
       "      <td>0.0005</td>\n",
       "      <td>0.7921</td>\n",
       "      <td>149.2302</td>\n",
       "      <td>122963000</td>\n",
       "      <td>0.0002</td>\n",
       "      <td>0.2079</td>\n",
       "    </tr>\n",
       "    <tr>\n",
       "      <th>232</th>\n",
       "      <td>Guadalajara</td>\n",
       "      <td>Residential</td>\n",
       "      <td>328786</td>\n",
       "      <td>1901000</td>\n",
       "      <td>0.0005</td>\n",
       "      <td>0.6940</td>\n",
       "      <td>98.1823</td>\n",
       "      <td>50103000</td>\n",
       "      <td>0.0002</td>\n",
       "      <td>0.3060</td>\n",
       "    </tr>\n",
       "    <tr>\n",
       "      <th>233</th>\n",
       "      <td>Guadalajara</td>\n",
       "      <td>Non-residential</td>\n",
       "      <td>43814</td>\n",
       "      <td>1340000</td>\n",
       "      <td>0.0005</td>\n",
       "      <td>0.8218</td>\n",
       "      <td>144.0624</td>\n",
       "      <td>22460000</td>\n",
       "      <td>0.0002</td>\n",
       "      <td>0.1782</td>\n",
       "    </tr>\n",
       "    <tr>\n",
       "      <th>234</th>\n",
       "      <td>Nuevo Leon</td>\n",
       "      <td>Residential</td>\n",
       "      <td>1879138</td>\n",
       "      <td>8646000</td>\n",
       "      <td>0.0005</td>\n",
       "      <td>0.7632</td>\n",
       "      <td>99.3499</td>\n",
       "      <td>213917000</td>\n",
       "      <td>0.0002</td>\n",
       "      <td>0.2368</td>\n",
       "    </tr>\n",
       "    <tr>\n",
       "      <th>235</th>\n",
       "      <td>Nuevo Leon</td>\n",
       "      <td>Non-residential</td>\n",
       "      <td>72048</td>\n",
       "      <td>3041000</td>\n",
       "      <td>0.0005</td>\n",
       "      <td>0.8454</td>\n",
       "      <td>143.8816</td>\n",
       "      <td>49690000</td>\n",
       "      <td>0.0002</td>\n",
       "      <td>0.1546</td>\n",
       "    </tr>\n",
       "  </tbody>\n",
       "</table>\n",
       "<p>236 rows × 10 columns</p>\n",
       "</div>"
      ],
      "text/plain": [
       "             CITY           SECTOR  BUILDINGS  EMISSIONS  ELEC_INTENSITY  \\\n",
       "0    Buenos Aires      Residential     235805    1319000          0.0004   \n",
       "1    Buenos Aires  Non-residential      60577    2409000          0.0004   \n",
       "2           Kyoto      Residential     475787    3549000          0.0006   \n",
       "3           Kyoto  Non-residential      58622    5212000          0.0006   \n",
       "4        Adelaide      Residential     489439    5064000          0.0004   \n",
       "..            ...              ...        ...        ...             ...   \n",
       "231   Mexico City  Non-residential     170889    7482000          0.0005   \n",
       "232   Guadalajara      Residential     328786    1901000          0.0005   \n",
       "233   Guadalajara  Non-residential      43814    1340000          0.0005   \n",
       "234    Nuevo Leon      Residential    1879138    8646000          0.0005   \n",
       "235    Nuevo Leon  Non-residential      72048    3041000          0.0005   \n",
       "\n",
       "     ELEC_FRACTION  ENERGY_INTENSITY  FLOORSPACE  FUEL_INT  FUEL_FRAC  \n",
       "0           0.5292           90.1052    45630000    0.0002     0.4708  \n",
       "1           0.7861          150.7102    44104000    0.0002     0.2139  \n",
       "2           0.4342          153.9420    61898000    0.0002     0.5658  \n",
       "3           0.6683          238.6454    48936000    0.0002     0.3317  \n",
       "4           0.4151          142.4763   110954000    0.0002     0.5849  \n",
       "..             ...               ...         ...       ...        ...  \n",
       "231         0.7921          149.2302   122963000    0.0002     0.2079  \n",
       "232         0.6940           98.1823    50103000    0.0002     0.3060  \n",
       "233         0.8218          144.0624    22460000    0.0002     0.1782  \n",
       "234         0.7632           99.3499   213917000    0.0002     0.2368  \n",
       "235         0.8454          143.8816    49690000    0.0002     0.1546  \n",
       "\n",
       "[236 rows x 10 columns]"
      ]
     },
     "execution_count": 74,
     "metadata": {},
     "output_type": "execute_result"
    }
   ],
   "source": [
    "EIE_buildings"
   ]
  },
  {
   "cell_type": "code",
   "execution_count": 69,
   "metadata": {},
   "outputs": [
    {
     "data": {
      "text/plain": [
       "array(['LAM', 'OECDPAC', 'OECDEUR', 'OECDAMS'], dtype=object)"
      ]
     },
     "execution_count": 69,
     "metadata": {},
     "output_type": "execute_result"
    }
   ],
   "source": [
    "EIE_general.region_IEA_secondary.unique()"
   ]
  },
  {
   "cell_type": "code",
   "execution_count": 70,
   "metadata": {},
   "outputs": [],
   "source": [
    "cols_dict = {'LAM':'red',\n",
    "            'OECDPAC':'pink',\n",
    "            'OECDEUR':'green',\n",
    "            'OECDAMS':'blue'}"
   ]
  },
  {
   "cell_type": "code",
   "execution_count": 71,
   "metadata": {},
   "outputs": [],
   "source": [
    "EIE_general['color'] = EIE_general.region_IEA_secondary.map(cols_dict)"
   ]
  },
  {
   "cell_type": "code",
   "execution_count": 77,
   "metadata": {},
   "outputs": [
    {
     "name": "stderr",
     "output_type": "stream",
     "text": [
      "/home/lucas/miniconda3/envs/geoml/lib/python3.7/site-packages/ipykernel_launcher.py:4: FutureWarning: \n",
      "Passing list-likes to .loc or [] with any missing label will raise\n",
      "KeyError in the future, you can use .reindex() as an alternative.\n",
      "\n",
      "See the documentation here:\n",
      "https://pandas.pydata.org/pandas-docs/stable/user_guide/indexing.html#deprecate-loc-reindex-listlike\n",
      "  after removing the cwd from sys.path.\n"
     ]
    },
    {
     "data": {
      "image/png": "[encoded data removed]",
      "text/plain": [
       "<Figure size 432x432 with 1 Axes>"
      ]
     },
     "metadata": {
      "needs_background": "light"
     },
     "output_type": "display_data"
    }
   ],
   "source": [
    "#floorspace per person\n",
    "fig, ax = plt.subplots(1,1,figsize=(6,6))\n",
    "ax.scatter(\n",
    "    EIE_buildings[EIE_buildings.SECTOR=='Non-residential'].set_index('CITY').loc[EIE_general.CITY].FLOORSPACE,\n",
    "    EIE_general.POPULATION.str.replace(',','').astype('float').values,\n",
    "    c = EIE_general['color'].values\n",
    ")\n",
    "ax.set_ylabel('Population')\n",
    "ax.set_xlabel('Floorspace')\n",
    "plt.show()"
   ]
  },
  {
   "cell_type": "code",
   "execution_count": 78,
   "metadata": {},
   "outputs": [],
   "source": [
    "EIE_buildings['FUEL_INTENSITY'] = EIE_buildings.ENERGY_INTENSITY * EIE_buildings.FUEL_FRAC"
   ]
  },
  {
   "cell_type": "code",
   "execution_count": 81,
   "metadata": {},
   "outputs": [
    {
     "name": "stderr",
     "output_type": "stream",
     "text": [
      "/home/lucas/miniconda3/envs/geoml/lib/python3.7/site-packages/ipykernel_launcher.py:5: FutureWarning: \n",
      "Passing list-likes to .loc or [] with any missing label will raise\n",
      "KeyError in the future, you can use .reindex() as an alternative.\n",
      "\n",
      "See the documentation here:\n",
      "https://pandas.pydata.org/pandas-docs/stable/user_guide/indexing.html#deprecate-loc-reindex-listlike\n",
      "  \"\"\"\n"
     ]
    },
    {
     "data": {
      "image/png": "[encoded data removed]",
      "text/plain": [
       "<Figure size 432x432 with 1 Axes>"
      ]
     },
     "metadata": {
      "needs_background": "light"
     },
     "output_type": "display_data"
    }
   ],
   "source": [
    "#hdd vs building energy\n",
    "fig, ax = plt.subplots(1,1,figsize=(6,6))\n",
    "ax.scatter(\n",
    "    EIE_general.HDD,\n",
    "    EIE_buildings[EIE_buildings.SECTOR=='Non-residential'].set_index('CITY').loc[EIE_general.CITY].FUEL_INTENSITY,\n",
    "    c = EIE_general['color'].values\n",
    ")\n",
    "ax.set_ylabel('Fuel Intensity')\n",
    "ax.set_xlabel('HDD')\n",
    "plt.show()"
   ]
  },
  {
   "cell_type": "code",
   "execution_count": 89,
   "metadata": {},
   "outputs": [],
   "source": [
    "#EIE_general = EIE_general.join(EIE_transport.groupby('CITY').EMISSIONS.sum(), on='CITY')\n",
    "EIE_general = EIE_general.rename(columns={'EMISSIONS':'TRANSPORT_EMISSIONS'})"
   ]
  },
  {
   "cell_type": "code",
   "execution_count": 91,
   "metadata": {},
   "outputs": [
    {
     "data": {
      "image/png": "[encoded data removed]",
      "text/plain": [
       "<Figure size 432x432 with 1 Axes>"
      ]
     },
     "metadata": {
      "needs_background": "light"
     },
     "output_type": "display_data"
    }
   ],
   "source": [
    "#transport vs pop dens\n",
    "# petrol -> 2.3 kg/L\n",
    "fig, ax = plt.subplots(1,1,figsize=(6,6))\n",
    "ax.scatter(\n",
    "    EIE_general.POP_DENS,\n",
    "    EIE_general.TRANSPORT_EMISSIONS/2.3,\n",
    "    c = EIE_general['color'].values\n",
    ")\n",
    "ax.set_ylabel('Trasnport oil, L')\n",
    "ax.set_xlabel('pop dens')\n",
    "plt.show()"
   ]
  },
  {
   "cell_type": "code",
   "execution_count": null,
   "metadata": {},
   "outputs": [],
   "source": [
    "color by iea region:\n",
    "hdd vs buildings\n",
    "transport vs. pop density\n",
    "pop dens vs floorspace"
   ]
  }
 ],
 "metadata": {
  "kernelspec": {
   "display_name": "Python 3",
   "language": "python",
   "name": "python3"
  },
  "language_info": {
   "codemirror_mode": {
    "name": "ipython",
    "version": 3
   },
   "file_extension": ".py",
   "mimetype": "text/x-python",
   "name": "python",
   "nbconvert_exporter": "python",
   "pygments_lexer": "ipython3",
   "version": "3.7.6"
  }
 },
 "nbformat": 4,
 "nbformat_minor": 4
}
