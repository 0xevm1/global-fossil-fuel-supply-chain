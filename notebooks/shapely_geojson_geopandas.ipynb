{
 "cells": [
  {
   "cell_type": "markdown",
   "metadata": {},
   "source": [
    "# Introduction: Shapely, GeoJSON, and GeoPandas"
   ]
  },
  {
   "cell_type": "markdown",
   "metadata": {},
   "source": [
    "[Shapely](https://shapely.readthedocs.io/en/latest/) is a package for geometric operations. [GeoJSON](https://geojson.org/) is a format for encoding geospatial data. [GeoPandas](https://geopandas.org/) adds the power of pandas to spatial data manipulation."
   ]
  },
  {
   "cell_type": "code",
   "execution_count": 106,
   "metadata": {},
   "outputs": [],
   "source": [
    "from shapely import geometry\n",
    "import geopandas as gpd\n",
    "import geojson, json\n",
    "import matplotlib.pyplot as plt"
   ]
  },
  {
   "cell_type": "markdown",
   "metadata": {},
   "source": [
    "### Shapely hello world"
   ]
  },
  {
   "cell_type": "code",
   "execution_count": 68,
   "metadata": {},
   "outputs": [],
   "source": [
    "# Geometry types include Points, LineStrings, LinearRings, Polygons, MultiPoints, MultiLineStrings, and MultiPolygons\n",
    "# Make some simple geometries\n",
    "point_A = geometry.Point([5,7])\n",
    "point_B = geometry.Point([15,2])\n",
    "linestring_A = geometry.LineString([[-10,10],[0,5],[10,-3]])\n",
    "linestring_B= geometry.LineString([[9,0],[7,3],[8,12]])\n",
    "linearring = geometry.LinearRing([[0,0],[-10,0],[-10,10],[10,20],[20,10]])\n",
    "polygon_A = geometry.Polygon([[0,0],[-10,0],[-10,10],[10,20],[20,10]])\n",
    "polygon_B = geometry.Polygon([[0,0],[0,5],[5,5],[5,0]])\n",
    "multipoint = geometry.MultiPoint([point_A,point_B])\n",
    "multiline = geometry.MultiLineString([linestring_A, linestring_B])\n",
    "multipolygon = geometry.MultiPolygon([polygon_A, polygon_B])"
   ]
  },
  {
   "cell_type": "code",
   "execution_count": 26,
   "metadata": {},
   "outputs": [
    {
     "data": {
      "image/svg+xml": [
       "<svg xmlns=\"http://www.w3.org/2000/svg\" xmlns:xlink=\"http://www.w3.org/1999/xlink\" width=\"100.0\" height=\"100.0\" viewBox=\"-11.2 -1.2 32.4 22.4\" preserveAspectRatio=\"xMinYMin meet\"><g transform=\"matrix(1,0,0,-1,0,20.0)\"><path fill-rule=\"evenodd\" fill=\"#66cc99\" stroke=\"#555555\" stroke-width=\"0.648\" opacity=\"0.6\" d=\"M 0.0,0.0 L -10.0,0.0 L -10.0,10.0 L 10.0,20.0 L 20.0,10.0 L 0.0,0.0 z\" /></g></svg>"
      ],
      "text/plain": [
       "<shapely.geometry.polygon.Polygon at 0x7f52bc490c10>"
      ]
     },
     "execution_count": 26,
     "metadata": {},
     "output_type": "execute_result"
    }
   ],
   "source": [
    "# ipython is kind enough to visualise single shapes for us\n",
    "polygon_A"
   ]
  },
  {
   "cell_type": "code",
   "execution_count": 35,
   "metadata": {},
   "outputs": [
    {
     "data": {
      "image/svg+xml": [
       "<svg xmlns=\"http://www.w3.org/2000/svg\" xmlns:xlink=\"http://www.w3.org/1999/xlink\" width=\"100.0\" height=\"100.0\" viewBox=\"-11.2 -1.2 32.4 22.4\" preserveAspectRatio=\"xMinYMin meet\"><g transform=\"matrix(1,0,0,-1,0,20.0)\"><polyline fill=\"none\" stroke=\"#66cc99\" stroke-width=\"0.648\" points=\"0.0,0.0 -10.0,0.0 -10.0,10.0 10.0,20.0 20.0,10.0 0.0,0.0\" opacity=\"0.8\" /></g></svg>"
      ],
      "text/plain": [
       "<shapely.geometry.polygon.LinearRing at 0x7f52bc4a4c10>"
      ]
     },
     "execution_count": 35,
     "metadata": {},
     "output_type": "execute_result"
    }
   ],
   "source": [
    "# Polygons are made of an exterior linearring plus a number of linearring holes.\n",
    "linearring"
   ]
  },
  {
   "cell_type": "code",
   "execution_count": 36,
   "metadata": {},
   "outputs": [
    {
     "data": {
      "image/svg+xml": [
       "<svg xmlns=\"http://www.w3.org/2000/svg\" xmlns:xlink=\"http://www.w3.org/1999/xlink\" width=\"100.0\" height=\"100.0\" viewBox=\"-11.2 -1.2 32.4 22.4\" preserveAspectRatio=\"xMinYMin meet\"><g transform=\"matrix(1,0,0,-1,0,20.0)\"><polyline fill=\"none\" stroke=\"#66cc99\" stroke-width=\"0.648\" points=\"0.0,0.0 -10.0,0.0 -10.0,10.0 10.0,20.0 20.0,10.0 0.0,0.0\" opacity=\"0.8\" /></g></svg>"
      ],
      "text/plain": [
       "<shapely.geometry.polygon.LinearRing at 0x7f52cc5a7a10>"
      ]
     },
     "execution_count": 36,
     "metadata": {},
     "output_type": "execute_result"
    }
   ],
   "source": [
    "polygon_A.exterior"
   ]
  },
  {
   "cell_type": "code",
   "execution_count": 43,
   "metadata": {},
   "outputs": [
    {
     "data": {
      "text/plain": [
       "([(0.0, 0.0),\n",
       "  (-10.0, 0.0),\n",
       "  (-10.0, 10.0),\n",
       "  (10.0, 20.0),\n",
       "  (20.0, 10.0),\n",
       "  (0.0, 0.0)],\n",
       " [(-10.0, 10.0), (0.0, 5.0), (10.0, -3.0)])"
      ]
     },
     "execution_count": 43,
     "metadata": {},
     "output_type": "execute_result"
    }
   ],
   "source": [
    "# a list of (x,y) coords is available on linearringsa and linestrings\n",
    "list(linearring.coords), list(linestring.coords)"
   ]
  },
  {
   "cell_type": "code",
   "execution_count": 47,
   "metadata": {},
   "outputs": [
    {
     "data": {
      "text/plain": [
       "((array('d', [0.0, -10.0, -10.0, 10.0, 20.0, 0.0]),\n",
       "  array('d', [0.0, 0.0, 10.0, 20.0, 10.0, 0.0])),\n",
       " (array('d', [-10.0, 0.0, 10.0]), array('d', [10.0, 5.0, -3.0])),\n",
       " (array('d', [5.0]), array('d', [7.0])))"
      ]
     },
     "execution_count": 47,
     "metadata": {},
     "output_type": "execute_result"
    }
   ],
   "source": [
    "# unzipped x and y components can be accessed with .xy\n",
    "linearring.xy, linestring_A.xy, point_A.xy"
   ]
  },
  {
   "cell_type": "code",
   "execution_count": 77,
   "metadata": {},
   "outputs": [
    {
     "data": {
      "image/png": "[encoded data removed]",
      "text/plain": [
       "<Figure size 288x288 with 1 Axes>"
      ]
     },
     "metadata": {
      "needs_background": "light"
     },
     "output_type": "display_data"
    }
   ],
   "source": [
    "# we can also use matplotlib for visualisation\n",
    "fig, ax = plt.subplots(1,1,figsize=(4,4))\n",
    "ax.plot(*polygon_A.exterior.xy, c='g')\n",
    "ax.plot(*polygon_B.exterior.xy, c='r')\n",
    "ax.plot(*linestring_A.xy,c='b')\n",
    "ax.plot(*linestring_B.xy,c='orange')\n",
    "ax.scatter(point_A.x, point_A.y, c='c')\n",
    "ax.scatter(point_B.x, point_B.y, c='k')\n",
    "plt.show()"
   ]
  },
  {
   "cell_type": "code",
   "execution_count": 49,
   "metadata": {},
   "outputs": [
    {
     "data": {
      "image/svg+xml": [
       "<svg xmlns=\"http://www.w3.org/2000/svg\" xmlns:xlink=\"http://www.w3.org/1999/xlink\" width=\"100.0\" height=\"100.0\" viewBox=\"-11.2 -1.2 32.4 22.4\" preserveAspectRatio=\"xMinYMin meet\"><g transform=\"matrix(1,0,0,-1,0,20.0)\"><path fill-rule=\"evenodd\" fill=\"#66cc99\" stroke=\"#555555\" stroke-width=\"0.648\" opacity=\"0.6\" d=\"M 0.0,0.0 L -10.0,0.0 L -10.0,10.0 L 10.0,20.0 L 20.0,10.0 L 5.0,2.5 L 5.0,0.0 L 0.0,0.0 z\" /></g></svg>"
      ],
      "text/plain": [
       "<shapely.geometry.polygon.Polygon at 0x7f52a4173d50>"
      ]
     },
     "execution_count": 49,
     "metadata": {},
     "output_type": "execute_result"
    }
   ],
   "source": [
    "# we can do lots of geometric operations with our shapes\n",
    "polygon_A.union(polygon_B)"
   ]
  },
  {
   "cell_type": "code",
   "execution_count": 50,
   "metadata": {},
   "outputs": [
    {
     "data": {
      "image/svg+xml": [
       "<svg xmlns=\"http://www.w3.org/2000/svg\" xmlns:xlink=\"http://www.w3.org/1999/xlink\" width=\"100.0\" height=\"100.0\" viewBox=\"-11.2 -1.2 32.4 22.4\" preserveAspectRatio=\"xMinYMin meet\"><g transform=\"matrix(1,0,0,-1,0,20.0)\"><path fill-rule=\"evenodd\" fill=\"#66cc99\" stroke=\"#555555\" stroke-width=\"0.648\" opacity=\"0.6\" d=\"M 0.0,0.0 L -10.0,0.0 L -10.0,10.0 L 10.0,20.0 L 20.0,10.0 L 5.0,2.5 L 5.0,5.0 L 0.0,5.0 L 0.0,0.0 z\" /></g></svg>"
      ],
      "text/plain": [
       "<shapely.geometry.polygon.Polygon at 0x7f52a3f08890>"
      ]
     },
     "execution_count": 50,
     "metadata": {},
     "output_type": "execute_result"
    }
   ],
   "source": [
    "polygon_A.difference(polygon_B)"
   ]
  },
  {
   "cell_type": "code",
   "execution_count": 51,
   "metadata": {},
   "outputs": [
    {
     "data": {
      "image/svg+xml": [
       "<svg xmlns=\"http://www.w3.org/2000/svg\" xmlns:xlink=\"http://www.w3.org/1999/xlink\" width=\"100.0\" height=\"100.0\" viewBox=\"-0.2 -0.2 5.4 2.9000000000000004\" preserveAspectRatio=\"xMinYMin meet\"><g transform=\"matrix(1,0,0,-1,0,2.5)\"><path fill-rule=\"evenodd\" fill=\"#66cc99\" stroke=\"#555555\" stroke-width=\"0.10800000000000001\" opacity=\"0.6\" d=\"M 5.0,2.5 L 5.0,0.0 L 0.0,0.0 L 5.0,2.5 z\" /></g></svg>"
      ],
      "text/plain": [
       "<shapely.geometry.polygon.Polygon at 0x7f52a4380110>"
      ]
     },
     "execution_count": 51,
     "metadata": {},
     "output_type": "execute_result"
    }
   ],
   "source": [
    "polygon_B.difference(polygon_A)"
   ]
  },
  {
   "cell_type": "code",
   "execution_count": 52,
   "metadata": {},
   "outputs": [
    {
     "data": {
      "image/svg+xml": [
       "<svg xmlns=\"http://www.w3.org/2000/svg\" xmlns:xlink=\"http://www.w3.org/1999/xlink\" width=\"100.0\" height=\"100.0\" viewBox=\"-0.2 -0.2 5.4 5.4\" preserveAspectRatio=\"xMinYMin meet\"><g transform=\"matrix(1,0,0,-1,0,5.0)\"><path fill-rule=\"evenodd\" fill=\"#66cc99\" stroke=\"#555555\" stroke-width=\"0.10800000000000001\" opacity=\"0.6\" d=\"M 0.0,0.0 L 0.0,5.0 L 5.0,5.0 L 5.0,2.5 L 0.0,0.0 z\" /></g></svg>"
      ],
      "text/plain": [
       "<shapely.geometry.polygon.Polygon at 0x7f52a42068d0>"
      ]
     },
     "execution_count": 52,
     "metadata": {},
     "output_type": "execute_result"
    }
   ],
   "source": [
    "polygon_B.intersection(polygon_A)"
   ]
  },
  {
   "cell_type": "code",
   "execution_count": 70,
   "metadata": {},
   "outputs": [
    {
     "data": {
      "text/plain": [
       "(True, False, True, False)"
      ]
     },
     "execution_count": 70,
     "metadata": {},
     "output_type": "execute_result"
    }
   ],
   "source": [
    "# including boolean tests\n",
    "polygon_A.contains(point_A), polygon_A.contains(point_B), polygon_A.intersects(linestring_A), polygon_B.intersects(linestring_B)"
   ]
  },
  {
   "cell_type": "code",
   "execution_count": 60,
   "metadata": {},
   "outputs": [],
   "source": [
    "# let's create some holes and remove them from polygon_A\n",
    "hole_1 = geometry.Polygon([[0,5],[7,5],[7,10]])\n",
    "hole_2 = geometry.Polygon([[10,10],[12,10],[12,12],[10,12]])\n",
    "polygon_C = polygon_A.difference(hole_1).difference(hole_2)"
   ]
  },
  {
   "cell_type": "code",
   "execution_count": 61,
   "metadata": {},
   "outputs": [
    {
     "data": {
      "image/svg+xml": [
       "<svg xmlns=\"http://www.w3.org/2000/svg\" xmlns:xlink=\"http://www.w3.org/1999/xlink\" width=\"100.0\" height=\"100.0\" viewBox=\"-11.2 -1.2 32.4 22.4\" preserveAspectRatio=\"xMinYMin meet\"><g transform=\"matrix(1,0,0,-1,0,20.0)\"><path fill-rule=\"evenodd\" fill=\"#66cc99\" stroke=\"#555555\" stroke-width=\"0.648\" opacity=\"0.6\" d=\"M 0.0,0.0 L -10.0,0.0 L -10.0,10.0 L 10.0,20.0 L 20.0,10.0 L 0.0,0.0 z M 0.0,5.0 L 7.0,5.0 L 7.0,10.0 L 0.0,5.0 z M 10.0,10.0 L 12.0,10.0 L 12.0,12.0 L 10.0,12.0 L 10.0,10.0 z\" /></g></svg>"
      ],
      "text/plain": [
       "<shapely.geometry.polygon.Polygon at 0x7f52a3df0510>"
      ]
     },
     "execution_count": 61,
     "metadata": {},
     "output_type": "execute_result"
    }
   ],
   "source": [
    "polygon_C"
   ]
  },
  {
   "cell_type": "code",
   "execution_count": 76,
   "metadata": {},
   "outputs": [
    {
     "data": {
      "image/png": "[encoded data removed]",
      "text/plain": [
       "<Figure size 288x288 with 1 Axes>"
      ]
     },
     "metadata": {
      "needs_background": "light"
     },
     "output_type": "display_data"
    },
    {
     "data": {
      "text/plain": [
       "False"
      ]
     },
     "execution_count": 76,
     "metadata": {},
     "output_type": "execute_result"
    }
   ],
   "source": [
    "# With matplotlib we need to plot the holes separately, which are accessible as linearrings via .interiors\n",
    "fig, ax = plt.subplots(1,1,figsize=(4,4))\n",
    "ax.plot(*polygon_C.exterior.xy, c='g')\n",
    "for hole in polygon_C.interiors:\n",
    "    ax.plot(*hole.xy, c='r')\n",
    "ax.scatter(point_A.x, point_A.y, c='c')\n",
    "plt.show()\n",
    "polygon_C.intersects(point_A)"
   ]
  },
  {
   "cell_type": "markdown",
   "metadata": {},
   "source": [
    "### GeoJSON Hello World"
   ]
  },
  {
   "cell_type": "markdown",
   "metadata": {},
   "source": [
    "the GeoJSON spec uses Features and FeatureCollections. Features have a geometry and some properties, FeatureCollections have a list of features and potentially some properties"
   ]
  },
  {
   "cell_type": "code",
   "execution_count": 97,
   "metadata": {},
   "outputs": [],
   "source": [
    "# geojson will automatically parse shapely geometries\n",
    "feature_A = geojson.Feature(geometry=polygon_A, properties={'foo':'cat','legs':4})\n",
    "feature_B = geojson.Feature(geometry=polygon_B, properties={'foo':'kangaroo','legs':2})\n",
    "feature_C = geojson.Feature(geometry=linestring_A, properties={'foo':'snake','legs':0})"
   ]
  },
  {
   "cell_type": "code",
   "execution_count": 98,
   "metadata": {},
   "outputs": [
    {
     "data": {
      "text/plain": [
       "{\"geometry\": {\"coordinates\": [[[0.0, 0.0], [-10.0, 0.0], [-10.0, 10.0], [10.0, 20.0], [20.0, 10.0], [0.0, 0.0]]], \"type\": \"Polygon\"}, \"properties\": {\"foo\": \"cat\", \"legs\": 4}, \"type\": \"Feature\"}"
      ]
     },
     "execution_count": 98,
     "metadata": {},
     "output_type": "execute_result"
    }
   ],
   "source": [
    "feature_A"
   ]
  },
  {
   "cell_type": "code",
   "execution_count": 99,
   "metadata": {},
   "outputs": [],
   "source": [
    "featurecollection=geojson.FeatureCollection([feature_A, feature_B, feature_C],properties={'bar':'baz'})"
   ]
  },
  {
   "cell_type": "code",
   "execution_count": 100,
   "metadata": {},
   "outputs": [
    {
     "data": {
      "text/plain": [
       "{\"features\": [{\"geometry\": {\"coordinates\": [[[0.0, 0.0], [-10.0, 0.0], [-10.0, 10.0], [10.0, 20.0], [20.0, 10.0], [0.0, 0.0]]], \"type\": \"Polygon\"}, \"properties\": {\"foo\": \"cat\", \"legs\": 4}, \"type\": \"Feature\"}, {\"geometry\": {\"coordinates\": [[[0.0, 0.0], [0.0, 5.0], [5.0, 5.0], [5.0, 0.0], [0.0, 0.0]]], \"type\": \"Polygon\"}, \"properties\": {\"foo\": \"kangaroo\", \"legs\": 2}, \"type\": \"Feature\"}, {\"geometry\": {\"coordinates\": [[-10.0, 10.0], [0.0, 5.0], [10.0, -3.0]], \"type\": \"LineString\"}, \"properties\": {\"foo\": \"snake\", \"legs\": 0}, \"type\": \"Feature\"}], \"properties\": {\"bar\": \"baz\"}, \"type\": \"FeatureCollection\"}"
      ]
     },
     "execution_count": 100,
     "metadata": {},
     "output_type": "execute_result"
    }
   ],
   "source": [
    "featurecollection"
   ]
  },
  {
   "cell_type": "code",
   "execution_count": 101,
   "metadata": {},
   "outputs": [],
   "source": [
    "# dump features and featurecollections to file with json\n",
    "json.dump(featurecollection,open('my_featurecollection.geojson','w'))"
   ]
  },
  {
   "cell_type": "code",
   "execution_count": 102,
   "metadata": {},
   "outputs": [],
   "source": [
    "# load feature collections with json\n",
    "featurecollection = json.load(open('my_featurecollection.geojson','r'))"
   ]
  },
  {
   "cell_type": "code",
   "execution_count": 105,
   "metadata": {},
   "outputs": [
    {
     "name": "stdout",
     "output_type": "stream",
     "text": [
      "Polygon\n",
      "Polygon\n",
      "LineString\n"
     ]
    }
   ],
   "source": [
    "# parse shapes from features back into shapely objects with geometry.shape:\n",
    "for feature in featurecollection['features']:\n",
    "    print(geometry.shape(feature['geometry']).type)"
   ]
  },
  {
   "cell_type": "code",
   "execution_count": 110,
   "metadata": {},
   "outputs": [
    {
     "data": {
      "text/plain": [
       "{'type': 'Polygon',\n",
       " 'coordinates': (((0.0, 0.0),\n",
       "   (-10.0, 0.0),\n",
       "   (-10.0, 10.0),\n",
       "   (10.0, 20.0),\n",
       "   (20.0, 10.0),\n",
       "   (0.0, 0.0)),)}"
      ]
     },
     "execution_count": 110,
     "metadata": {},
     "output_type": "execute_result"
    }
   ],
   "source": [
    "# the text mapping for a shapely geometry can also be accessed using geometry.mapping:\n",
    "# (why? e.g. some libraries, infuriatingly, don't accept parentheses/tuples for shape definitions.)\n",
    "geometry.mapping(polygon_A)"
   ]
  },
  {
   "cell_type": "markdown",
   "metadata": {},
   "source": [
    "### GeoPandas Hello World"
   ]
  },
  {
   "cell_type": "markdown",
   "metadata": {},
   "source": [
    "Geopandas combines the amazing vectorisation and io of pandas with geometry operations of shapely, as well as other geospatial libraries."
   ]
  },
  {
   "cell_type": "code",
   "execution_count": 115,
   "metadata": {},
   "outputs": [],
   "source": [
    "gdf = gpd.read_file('my_featurecollection.geojson').set_index('foo')"
   ]
  },
  {
   "cell_type": "code",
   "execution_count": 116,
   "metadata": {},
   "outputs": [
    {
     "data": {
      "text/html": [
       "<div>\n",
       "<style scoped>\n",
       "    .dataframe tbody tr th:only-of-type {\n",
       "        vertical-align: middle;\n",
       "    }\n",
       "\n",
       "    .dataframe tbody tr th {\n",
       "        vertical-align: top;\n",
       "    }\n",
       "\n",
       "    .dataframe thead th {\n",
       "        text-align: right;\n",
       "    }\n",
       "</style>\n",
       "<table border=\"1\" class=\"dataframe\">\n",
       "  <thead>\n",
       "    <tr style=\"text-align: right;\">\n",
       "      <th></th>\n",
       "      <th>legs</th>\n",
       "      <th>geometry</th>\n",
       "    </tr>\n",
       "    <tr>\n",
       "      <th>foo</th>\n",
       "      <th></th>\n",
       "      <th></th>\n",
       "    </tr>\n",
       "  </thead>\n",
       "  <tbody>\n",
       "    <tr>\n",
       "      <th>cat</th>\n",
       "      <td>4</td>\n",
       "      <td>POLYGON ((0.00000 0.00000, -10.00000 0.00000, ...</td>\n",
       "    </tr>\n",
       "    <tr>\n",
       "      <th>kangaroo</th>\n",
       "      <td>2</td>\n",
       "      <td>POLYGON ((0.00000 0.00000, 0.00000 5.00000, 5....</td>\n",
       "    </tr>\n",
       "    <tr>\n",
       "      <th>snake</th>\n",
       "      <td>0</td>\n",
       "      <td>LINESTRING (-10.00000 10.00000, 0.00000 5.0000...</td>\n",
       "    </tr>\n",
       "  </tbody>\n",
       "</table>\n",
       "</div>"
      ],
      "text/plain": [
       "          legs                                           geometry\n",
       "foo                                                              \n",
       "cat          4  POLYGON ((0.00000 0.00000, -10.00000 0.00000, ...\n",
       "kangaroo     2  POLYGON ((0.00000 0.00000, 0.00000 5.00000, 5....\n",
       "snake        0  LINESTRING (-10.00000 10.00000, 0.00000 5.0000..."
      ]
     },
     "execution_count": 116,
     "metadata": {},
     "output_type": "execute_result"
    }
   ],
   "source": [
    "gdf"
   ]
  },
  {
   "cell_type": "code",
   "execution_count": 117,
   "metadata": {},
   "outputs": [
    {
     "data": {
      "text/plain": [
       "<matplotlib.axes._subplots.AxesSubplot at 0x7f529915db50>"
      ]
     },
     "execution_count": 117,
     "metadata": {},
     "output_type": "execute_result"
    },
    {
     "data": {
      "image/png": "[encoded data removed]",
      "text/plain": [
       "<Figure size 432x288 with 1 Axes>"
      ]
     },
     "metadata": {
      "needs_background": "light"
     },
     "output_type": "display_data"
    }
   ],
   "source": [
    "gdf.plot()"
   ]
  }
 ],
 "metadata": {
  "kernelspec": {
   "display_name": "Python 3",
   "language": "python",
   "name": "python3"
  },
  "language_info": {
   "codemirror_mode": {
    "name": "ipython",
    "version": 3
   },
   "file_extension": ".py",
   "mimetype": "text/x-python",
   "name": "python",
   "nbconvert_exporter": "python",
   "pygments_lexer": "ipython3",
   "version": "3.7.6"
  }
 },
 "nbformat": 4,
 "nbformat_minor": 4
}
