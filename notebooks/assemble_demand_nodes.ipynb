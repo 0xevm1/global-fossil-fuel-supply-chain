{
 "cells": [
  {
   "cell_type": "code",
   "execution_count": null,
   "metadata": {},
   "outputs": [],
   "source": [
    "import numpy as np\n",
    "import json\n",
    "import time\n",
    "import datetime\n",
    "from osgeo import gdal\n",
    "import matplotlib.pyplot as plt\n",
    "from area import area\n",
    "import pickle\n",
    "import geojson\n",
    "\n",
    "from shapely import geometry\n",
    "from skimage.morphology import watershed\n",
    "from skimage.feature import peak_local_max\n",
    "from skimage import measure\n",
    "from pyproj import Proj\n",
    "from scipy import ndimage, spatial\n",
    "from scipy.signal import fftconvolve\n",
    "from PIL import Image, ImageDraw\n",
    "import requests"
   ]
  },
  {
   "cell_type": "markdown",
   "metadata": {},
   "source": [
    "**Geolocate Cities and unk things**"
   ]
  },
  {
   "cell_type": "code",
   "execution_count": null,
   "metadata": {},
   "outputs": [],
   "source": [
    "cities = json.load(open('all_cities.geojson','r'))"
   ]
  },
  {
   "cell_type": "code",
   "execution_count": null,
   "metadata": {},
   "outputs": [],
   "source": [
    "with open('LK_google_maps.txt','rb') as f:\n",
    "    API_KEY = str(f.read())[2:-1] #hacky shit\n",
    "    print (API_KEY)"
   ]
  },
  {
   "cell_type": "code",
   "execution_count": null,
   "metadata": {},
   "outputs": [],
   "source": [
    "def get_addy(latlon,API_KEY):\n",
    "    #address_q = ','.join(address.split('\\n')).replace(' ','+')\n",
    "    #print(address_q)\n",
    "    #https://maps.googleapis.com/maps/api/geocode/json?latlng=40.714224,-73.961452&key=YOUR_API_KEY\n",
    "    urlstr = \"\"\"https://maps.googleapis.com/maps/api/geocode/json?latlng=\"\"\"+str(latlon[0])+\"\"\",\"\"\"+str(latlon[1])+\"\"\"&key=\"\"\" + API_KEY\n",
    "    \n",
    "    #print (urlstr)\n",
    "    \n",
    "    r = requests.get(urlstr)\n",
    "    data = r.json()\n",
    "    return data\n",
    "    \n",
    "    #with urllib.request.urlopen(urlstr) as response:\n",
    "    #    print(dir(response))\n",
    "    #    print (response.readable())\n",
    "    #    print (response.read())\n",
    "    #    soup = response.read1()\n",
    "    #    data = json.loads(soup.decode('utf-8'))\n",
    "\n",
    "\n",
    "    #lat = float((data['results'][0]['geometry']['location']['lat']))\n",
    "    #lon = float((data['results'][0]['geometry']['location']['lng']))\n",
    "\n",
    "    #return (lat,lon)"
   ]
  },
  {
   "cell_type": "code",
   "execution_count": null,
   "metadata": {},
   "outputs": [],
   "source": [
    "pt = [49.0,1.0]\n",
    "res = get_addy(pt,API_KEY)\n",
    "print (len(res['results']))\n",
    "print (res['results'][0])"
   ]
  },
  {
   "cell_type": "code",
   "execution_count": null,
   "metadata": {},
   "outputs": [],
   "source": []
  },
  {
   "cell_type": "code",
   "execution_count": null,
   "metadata": {
    "scrolled": true
   },
   "outputs": [],
   "source": [
    "for c in cities['features']:\n",
    "    #print (c['properties'])\n",
    "    c_poly = geometry.Polygon(c['geometry']['coordinates'][0])\n",
    "    lon,lat = c_poly.centroid.xy\n",
    "    pt = [lat[0],lon[0]]\n",
    "\n",
    "    res = get_addy(pt, API_KEY)\n",
    "    #print (len(res['results']))\n",
    "    \n",
    "    flag = False\n",
    "    city_geocode = None\n",
    "    country_geocode = None\n",
    "    \n",
    "    for priority_component in ['colloquial_area', 'postal_town','locality','administrative_area_level_2']:\n",
    "        if flag==False:\n",
    "            for r in res['results']:\n",
    "                if priority_component in r['types']:\n",
    "                    for component in r['address_components']:\n",
    "                        if priority_component in component['types']:\n",
    "                            city_geocode = component['long_name']\n",
    "                        if 'country' in component['types']:\n",
    "                            country_geocode = component['short_name']\n",
    "                    flag==True\n",
    "                    \n",
    "    c['properties'] = json.loads(c['properties'])\n",
    "    c['properties']['name'] =str(city_geocode)+', '+str(country_geocode)\n",
    "    c['properties']['iso_2'] = str(country_geocode)\n",
    "    c['properties']['type']='city_cluster'\n",
    "    print (c['properties']['name'])"
   ]
  },
  {
   "cell_type": "code",
   "execution_count": null,
   "metadata": {},
   "outputs": [],
   "source": [
    "json.dump(cities,open('all_cities_fts.geojson','w'))"
   ]
  },
  {
   "cell_type": "markdown",
   "metadata": {},
   "source": [
    "**clean up Nones**"
   ]
  },
  {
   "cell_type": "code",
   "execution_count": null,
   "metadata": {},
   "outputs": [],
   "source": [
    "for c in cities['features']:\n",
    "    if c['properties']['iso_2']=='None':\n",
    "        #print (c)\n",
    "        c_poly = geometry.Polygon(c['geometry']['coordinates'][0])\n",
    "        lon,lat = c_poly.centroid.xy\n",
    "        pt = [lat[0],lon[0]]\n",
    "        print (*pt)\n",
    "        city_name = input('city name')\n",
    "        country_iso2 = input('country iso2')\n",
    "        c['properties']['name'] = str(city_name)+', '+str(country_iso2)\n",
    "        c['properties']['iso_2'] = str(country_iso2)"
   ]
  },
  {
   "cell_type": "code",
   "execution_count": null,
   "metadata": {},
   "outputs": [],
   "source": [
    "json.dump(cities,open('all_cities_fts.geojson','w'))"
   ]
  },
  {
   "cell_type": "markdown",
   "metadata": {},
   "source": [
    "### Region Clusters"
   ]
  },
  {
   "cell_type": "code",
   "execution_count": null,
   "metadata": {},
   "outputs": [],
   "source": [
    "clust_unique =  pickle.load(open('unique_clusters.pickle','rb'))\n",
    "clusters = pickle.load(open('features_out.pickle','rb'))\n",
    "names_dict = pickle.load(open('names_dict.pickle','rb'))"
   ]
  },
  {
   "cell_type": "code",
   "execution_count": null,
   "metadata": {},
   "outputs": [],
   "source": [
    "for ii_c, c in enumerate(clusters):\n",
    "    c['properties'] = json.loads(c['properties'])\n",
    "    c['properties']['unique_index'] = clust_unique[ii_c+1]\n",
    "    c['properties']['name'] =names_dict[clust_unique[ii_c+1]]\n",
    "    c['properties']['type']='region_cluster'\n",
    "    \n",
    "    \n",
    "    for k,v in c['properties'].items():\n",
    "        #print (k[0:5],v)\n",
    "        if ((k[0:6]=='co_pop') and (v<0)):\n",
    "            c['properties'][k]=0\n",
    "            \n",
    "    c['properties']['popcount_clust'] = sum([v for k,v in c['properties'].items() if k[0:6]=='co_pop'])\n",
    "        \n",
    "    print(c['properties'])"
   ]
  },
  {
   "cell_type": "code",
   "execution_count": null,
   "metadata": {},
   "outputs": [],
   "source": [
    "json.dump(geojson.FeatureCollection(clusters),open('clusters_fc.geojson','w'))"
   ]
  },
  {
   "cell_type": "code",
   "execution_count": null,
   "metadata": {},
   "outputs": [],
   "source": [
    "all_fc = geojson.FeatureCollection(cities['features']+clusters)"
   ]
  },
  {
   "cell_type": "code",
   "execution_count": null,
   "metadata": {},
   "outputs": [],
   "source": [
    "json.dump(all_fc,open('demand_nodes.geojson','w'))"
   ]
  },
  {
   "cell_type": "code",
   "execution_count": null,
   "metadata": {},
   "outputs": [],
   "source": []
  }
 ],
 "metadata": {
  "kernelspec": {
   "display_name": "Python 3",
   "language": "python",
   "name": "python3"
  },
  "language_info": {
   "codemirror_mode": {
    "name": "ipython",
    "version": 3
   },
   "file_extension": ".py",
   "mimetype": "text/x-python",
   "name": "python",
   "nbconvert_exporter": "python",
   "pygments_lexer": "ipython3",
   "version": "3.7.6"
  }
 },
 "nbformat": 4,
 "nbformat_minor": 2
}
