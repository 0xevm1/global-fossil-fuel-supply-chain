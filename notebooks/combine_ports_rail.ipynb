{
 "cells": [
  {
   "cell_type": "code",
   "execution_count": 3,
   "metadata": {},
   "outputs": [],
   "source": [
    "import os, sys, logging, pickle\n",
    "import pandas as pd\n",
    "\n",
    "import geopandas as gpd\n",
    "from shapely.geometry import Point, Polygon\n",
    "from shapely.ops import transform\n",
    "from typing import Dict\n",
    "from functools import partial\n",
    "import pyproj\n",
    "import numpy as np\n",
    "gpd.options.use_pygeos = False"
   ]
  },
  {
   "cell_type": "code",
   "execution_count": 6,
   "metadata": {},
   "outputs": [],
   "source": [
    "ports_df = pd.read_csv('./../results_backup/output/port_node_dataframe.csv')"
   ]
  },
  {
   "cell_type": "code",
   "execution_count": 5,
   "metadata": {},
   "outputs": [],
   "source": [
    "railway_df = pd.read_csv('./../results_backup/output/railway_nodes_dataframe.csv')"
   ]
  },
  {
   "cell_type": "code",
   "execution_count": 9,
   "metadata": {},
   "outputs": [
    {
     "name": "stderr",
     "output_type": "stream",
     "text": [
      "/home/ubuntu/miniconda3/envs/ffsc/lib/python3.7/site-packages/IPython/core/interactiveshell.py:3063: DtypeWarning: Columns (3,7,8,9,11,12,19) have mixed types.Specify dtype option on import or set low_memory=False.\n",
      "  interactivity=interactivity, compiler=compiler, result=result)\n"
     ]
    }
   ],
   "source": [
    "merged_df = pd.read_csv('./../results_backup/prm_ports_merged_with_railways.csv')"
   ]
  },
  {
   "cell_type": "code",
   "execution_count": 31,
   "metadata": {},
   "outputs": [],
   "source": [
    "merged_df.network_coordinates = merged_df.network_coordinates.str[1:-1].str.split(', ')"
   ]
  },
  {
   "cell_type": "code",
   "execution_count": 19,
   "metadata": {},
   "outputs": [
    {
     "data": {
      "text/html": [
       "<div>\n",
       "<style scoped>\n",
       "    .dataframe tbody tr th:only-of-type {\n",
       "        vertical-align: middle;\n",
       "    }\n",
       "\n",
       "    .dataframe tbody tr th {\n",
       "        vertical-align: top;\n",
       "    }\n",
       "\n",
       "    .dataframe thead th {\n",
       "        text-align: right;\n",
       "    }\n",
       "</style>\n",
       "<table border=\"1\" class=\"dataframe\">\n",
       "  <thead>\n",
       "    <tr style=\"text-align: right;\">\n",
       "      <th></th>\n",
       "      <th>coordinates</th>\n",
       "      <th>RailwayNodeID:ID(RailwayNode)</th>\n",
       "      <th>lat</th>\n",
       "      <th>long</th>\n",
       "      <th>:LABEL</th>\n",
       "    </tr>\n",
       "  </thead>\n",
       "  <tbody>\n",
       "    <tr>\n",
       "      <th>0</th>\n",
       "      <td>(-158.15219300029378, 21.387556000051557)</td>\n",
       "      <td>railway_node_-158.1521930002937821.38755600005...</td>\n",
       "      <td>-158.152193</td>\n",
       "      <td>21.387556</td>\n",
       "      <td>RailwayNode</td>\n",
       "    </tr>\n",
       "    <tr>\n",
       "      <th>1</th>\n",
       "      <td>(-158.15216799970239, 21.38780900006117)</td>\n",
       "      <td>railway_node_-158.1521679997023921.38780900006117</td>\n",
       "      <td>-158.152168</td>\n",
       "      <td>21.387809</td>\n",
       "      <td>RailwayNode</td>\n",
       "    </tr>\n",
       "    <tr>\n",
       "      <th>2</th>\n",
       "      <td>(-158.15211900047154, 21.3871660001145)</td>\n",
       "      <td>railway_node_-158.1521190004715421.3871660001145</td>\n",
       "      <td>-158.152119</td>\n",
       "      <td>21.387166</td>\n",
       "      <td>RailwayNode</td>\n",
       "    </tr>\n",
       "    <tr>\n",
       "      <th>3</th>\n",
       "      <td>(-158.15187400009557, 21.38819900025087)</td>\n",
       "      <td>railway_node_-158.1518740000955721.38819900025087</td>\n",
       "      <td>-158.151874</td>\n",
       "      <td>21.388199</td>\n",
       "      <td>RailwayNode</td>\n",
       "    </tr>\n",
       "    <tr>\n",
       "      <th>4</th>\n",
       "      <td>(-158.15187399963196, 21.386891000336703)</td>\n",
       "      <td>railway_node_-158.1518739996319621.38689100033...</td>\n",
       "      <td>-158.151874</td>\n",
       "      <td>21.386891</td>\n",
       "      <td>RailwayNode</td>\n",
       "    </tr>\n",
       "    <tr>\n",
       "      <th>...</th>\n",
       "      <td>...</td>\n",
       "      <td>...</td>\n",
       "      <td>...</td>\n",
       "      <td>...</td>\n",
       "      <td>...</td>\n",
       "    </tr>\n",
       "    <tr>\n",
       "      <th>5219765</th>\n",
       "      <td>(179.59374990853584, -16.321222378757763)</td>\n",
       "      <td>railway_node_179.59374990853584-16.32122237875...</td>\n",
       "      <td>179.593750</td>\n",
       "      <td>-16.321222</td>\n",
       "      <td>RailwayNode</td>\n",
       "    </tr>\n",
       "    <tr>\n",
       "      <th>5219766</th>\n",
       "      <td>(179.59446716456043, -16.324194025562907)</td>\n",
       "      <td>railway_node_179.59446716456043-16.32419402556...</td>\n",
       "      <td>179.594467</td>\n",
       "      <td>-16.324194</td>\n",
       "      <td>RailwayNode</td>\n",
       "    </tr>\n",
       "    <tr>\n",
       "      <th>5219767</th>\n",
       "      <td>(179.59683231035925, -16.279861429547147)</td>\n",
       "      <td>railway_node_179.59683231035925-16.27986142954...</td>\n",
       "      <td>179.596832</td>\n",
       "      <td>-16.279861</td>\n",
       "      <td>RailwayNode</td>\n",
       "    </tr>\n",
       "    <tr>\n",
       "      <th>5219768</th>\n",
       "      <td>(179.60139458135137, -16.283721943758717)</td>\n",
       "      <td>railway_node_179.60139458135137-16.28372194375...</td>\n",
       "      <td>179.601395</td>\n",
       "      <td>-16.283722</td>\n",
       "      <td>RailwayNode</td>\n",
       "    </tr>\n",
       "    <tr>\n",
       "      <th>5219769</th>\n",
       "      <td>(179.6098937219135, -16.282443925955544)</td>\n",
       "      <td>railway_node_179.6098937219135-16.282443925955544</td>\n",
       "      <td>179.609894</td>\n",
       "      <td>-16.282444</td>\n",
       "      <td>RailwayNode</td>\n",
       "    </tr>\n",
       "  </tbody>\n",
       "</table>\n",
       "<p>5219770 rows × 5 columns</p>\n",
       "</div>"
      ],
      "text/plain": [
       "                                       coordinates  \\\n",
       "0        (-158.15219300029378, 21.387556000051557)   \n",
       "1         (-158.15216799970239, 21.38780900006117)   \n",
       "2          (-158.15211900047154, 21.3871660001145)   \n",
       "3         (-158.15187400009557, 21.38819900025087)   \n",
       "4        (-158.15187399963196, 21.386891000336703)   \n",
       "...                                            ...   \n",
       "5219765  (179.59374990853584, -16.321222378757763)   \n",
       "5219766  (179.59446716456043, -16.324194025562907)   \n",
       "5219767  (179.59683231035925, -16.279861429547147)   \n",
       "5219768  (179.60139458135137, -16.283721943758717)   \n",
       "5219769   (179.6098937219135, -16.282443925955544)   \n",
       "\n",
       "                             RailwayNodeID:ID(RailwayNode)         lat  \\\n",
       "0        railway_node_-158.1521930002937821.38755600005... -158.152193   \n",
       "1        railway_node_-158.1521679997023921.38780900006117 -158.152168   \n",
       "2         railway_node_-158.1521190004715421.3871660001145 -158.152119   \n",
       "3        railway_node_-158.1518740000955721.38819900025087 -158.151874   \n",
       "4        railway_node_-158.1518739996319621.38689100033... -158.151874   \n",
       "...                                                    ...         ...   \n",
       "5219765  railway_node_179.59374990853584-16.32122237875...  179.593750   \n",
       "5219766  railway_node_179.59446716456043-16.32419402556...  179.594467   \n",
       "5219767  railway_node_179.59683231035925-16.27986142954...  179.596832   \n",
       "5219768  railway_node_179.60139458135137-16.28372194375...  179.601395   \n",
       "5219769  railway_node_179.6098937219135-16.282443925955544  179.609894   \n",
       "\n",
       "              long       :LABEL  \n",
       "0        21.387556  RailwayNode  \n",
       "1        21.387809  RailwayNode  \n",
       "2        21.387166  RailwayNode  \n",
       "3        21.388199  RailwayNode  \n",
       "4        21.386891  RailwayNode  \n",
       "...            ...          ...  \n",
       "5219765 -16.321222  RailwayNode  \n",
       "5219766 -16.324194  RailwayNode  \n",
       "5219767 -16.279861  RailwayNode  \n",
       "5219768 -16.283722  RailwayNode  \n",
       "5219769 -16.282444  RailwayNode  \n",
       "\n",
       "[5219770 rows x 5 columns]"
      ]
     },
     "execution_count": 19,
     "metadata": {},
     "output_type": "execute_result"
    }
   ],
   "source": [
    "railway_df"
   ]
  },
  {
   "cell_type": "code",
   "execution_count": 32,
   "metadata": {},
   "outputs": [],
   "source": [
    "def coord_to_rail_key(coord):\n",
    "    return \"railway_node_\" + \"\".join([str(item) for item in coord])\n",
    "\n",
    "def port_item_to_node_id(id):\n",
    "    return \"port_node_\" + str(int(id))\n",
    "\n",
    "def create_port_railway_edges(prm_ports_matched_with_railways):\n",
    "    edges = prm_ports_matched_with_railways[[\"item_id\", \"network_coordinates\"]]\n",
    "\n",
    "    edges = edges.rename({\"item_id\": \"PortNode:START_ID(PortNode)\"}, axis=1)\n",
    "    edges[\"PortNode:START_ID(PortNode)\"] = edges[\"PortNode:START_ID(PortNode)\"].apply(\n",
    "        port_item_to_node_id\n",
    "    )\n",
    "\n",
    "    edges[\"RailwayNodeID:END_ID(PipelineNode)\"] = edges[\"network_coordinates\"].apply(\n",
    "        coord_to_rail_key\n",
    "    )\n",
    "\n",
    "    edges = edges.drop(\"network_coordinates\", axis=1)\n",
    "\n",
    "    edges[\":TYPE\"] = \"PORT_RAILWAY_CONNECTOR\"\n",
    "\n",
    "    return edges\n",
    "\n",
    "def geodesic_point_buffer(lat, lon, km):\n",
    "    # Azimuthal equidistant projection\n",
    "    aeqd_proj = '+proj=aeqd +lat_0={lat} +lon_0={lon} +x_0=0 +y_0=0'\n",
    "    project = partial(\n",
    "        pyproj.transform,\n",
    "        pyproj.Proj(aeqd_proj.format(lat=lat, lon=lon)),\n",
    "        proj_wgs84)\n",
    "    buf = Point(0, 0).buffer(km * 1000)  # distance in metres\n",
    "    return Polygon(transform(project, buf).exterior.coords[:])"
   ]
  },
  {
   "cell_type": "code",
   "execution_count": 33,
   "metadata": {},
   "outputs": [],
   "source": [
    "edges_df = create_port_railway_edges(merged_df)"
   ]
  },
  {
   "cell_type": "code",
   "execution_count": 37,
   "metadata": {},
   "outputs": [],
   "source": [
    "## make sure edge railways nodes are in the ID of railway node\n",
    "check_isin = edges_df['RailwayNodeID:END_ID(PipelineNode)'].isin(railway_df['RailwayNodeID:ID(RailwayNode)'])"
   ]
  },
  {
   "cell_type": "code",
   "execution_count": 42,
   "metadata": {},
   "outputs": [
    {
     "data": {
      "text/plain": [
       "0"
      ]
     },
     "execution_count": 42,
     "metadata": {},
     "output_type": "execute_result"
    }
   ],
   "source": [
    "np.sum(~check_isin)"
   ]
  },
  {
   "cell_type": "code",
   "execution_count": 43,
   "metadata": {},
   "outputs": [],
   "source": [
    "edges_df.to_csv('./../results_backup/output/port_railway_edge_dataframe.csv')"
   ]
  },
  {
   "cell_type": "code",
   "execution_count": null,
   "metadata": {},
   "outputs": [],
   "source": []
  }
 ],
 "metadata": {
  "kernelspec": {
   "display_name": "Python 3",
   "language": "python",
   "name": "python3"
  },
  "language_info": {
   "codemirror_mode": {
    "name": "ipython",
    "version": 3
   },
   "file_extension": ".py",
   "mimetype": "text/x-python",
   "name": "python",
   "nbconvert_exporter": "python",
   "pygments_lexer": "ipython3",
   "version": "3.7.6"
  }
 },
 "nbformat": 4,
 "nbformat_minor": 4
}
